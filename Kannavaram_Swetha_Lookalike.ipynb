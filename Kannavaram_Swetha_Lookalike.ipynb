customer_product_matrix = merged_data.pivot_table(index='CustomerID', columns='ProductID', values='Quantity', fill_value=0)

# Calculate cosine similarity
similarity_matrix = cosine_similarity(customer_product_matrix)
similarity_df = pd.DataFrame(similarity_matrix, index=customer_product_matrix.index, columns=customer_product_matrix.index)

# Generate Lookalike.csv for first 20 customers
lookalikes = {}
for customer in customers['CustomerID'][:20]:
    similar_customers = similarity_df[customer].sort_values(ascending=False)[1:4]
    lookalikes[customer] = [(cust, score) for cust, score in similar_customers.items()]

lookalike_df = pd.DataFrame.from_dict(lookalikes, orient='index', columns=['Customer_1', 'Customer_2', 'Customer_3'])
lookalike_df.to_csv('FirstName_LastName_Lookalike.csv', index_label='CustomerID')
