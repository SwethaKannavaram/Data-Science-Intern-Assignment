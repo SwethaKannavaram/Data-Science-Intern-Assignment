# Preparing data for clustering
customer_summary = merged_data.groupby('CustomerID').agg({
    'TotalValue': 'sum',
    'TransactionID': 'count',
    'Price': 'mean'
}).rename(columns={
    'TotalValue': 'Total_Spend',
    'TransactionID': 'Total_Transactions',
    'Price': 'Average_Price'
})

# Standardizing data
scaler = StandardScaler()
customer_summary_scaled = scaler.fit_transform(customer_summary)

# KMeans clustering
kmeans = KMeans(n_clusters=4, random_state=42)
clusters = kmeans.fit_predict(customer_summary_scaled)
customer_summary['Cluster'] = clusters

# Evaluate clustering with DB Index
db_index = davies_bouldin_score(customer_summary_scaled, clusters)
print(f'Davies-Bouldin Index: {db_index}')

# Visualize clusters
plt.figure(figsize=(8, 5))
sns.scatterplot(
    x=customer_summary['Total_Spend'], y=customer_summary['Total_Transactions'], hue=customer_summary['Cluster'], palette='viridis'
)
plt.title('Customer Segmentation Clusters')
plt.xlabel('Total Spend')
plt.ylabel('Total Transactions')
plt.show()

# Save clustering results
customer_summary.to_csv('FirstName_LastName_Clustering.csv')