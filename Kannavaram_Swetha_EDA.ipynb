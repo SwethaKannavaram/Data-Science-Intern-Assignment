import pandas as pd
import numpy as np
import matplotlib.pyplot as plt
import seaborn as sns
from sklearn.metrics.pairwise import cosine_similarity
from sklearn.cluster import KMeans
from sklearn.preprocessing import StandardScaler
from sklearn.metrics import davies_bouldin_score

# File paths
customers_file = "Customers.csv"
products_file = "Products.csv"
transactions_file = "Transactions.csv"

# Load datasets
customers = pd.read_csv(customers_file)
products = pd.read_csv(products_file)
transactions = pd.read_csv(transactions_file)

# ----------------------------- Task 1: EDA and Business Insights ----------------------------- #
# Data Preprocessing
customers['SignupDate'] = pd.to_datetime(customers['SignupDate'])
transactions['TransactionDate'] = pd.to_datetime(transactions['TransactionDate'])

# Merging datasets
merged_data = transactions.merge(customers, on='CustomerID').merge(products, on='ProductID')

# Generate EDA Visualizations
sns.set(style="whitegrid")

# Example: Revenue by Region
revenue_by_region = merged_data.groupby('Region')['TotalValue'].sum().sort_values(ascending=False)
plt.figure(figsize=(8, 5))
sns.barplot(x=revenue_by_region.index, y=revenue_by_region.values, palette="viridis")
plt.title('Total Revenue by Region')
plt.ylabel('Revenue')
plt.xlabel('Region')
plt.show()
